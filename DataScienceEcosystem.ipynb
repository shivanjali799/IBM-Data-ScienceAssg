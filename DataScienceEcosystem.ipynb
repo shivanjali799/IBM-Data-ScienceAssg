{
 "cells": [
  {
   "cell_type": "markdown",
   "id": "9d883cc7-fc3b-4e34-a2d5-6490062a0950",
   "metadata": {},
   "source": [
    "#  Data Science Tools and Ecosystem"
   ]
  },
  {
   "cell_type": "markdown",
   "id": "aa0227d8-df4c-47a7-9f59-76aaae4e3b9a",
   "metadata": {},
   "source": [
    "In this notebook, Data science Tools and Ecosystem are summarized."
   ]
  },
  {
   "cell_type": "markdown",
   "id": "53b9b2b4-b546-4fac-aff6-9affe16d360f",
   "metadata": {},
   "source": [
    "**Objectives:**\n",
    "\n",
    "* What is Data Science?\n",
    "* Advice for New Data Scientists.\n",
    "* Open Source tools for data science.\n",
    "* Commercial tools for Data science.\n",
    "* Machine LEarning Models."
   ]
  },
  {
   "cell_type": "markdown",
   "id": "ecff3c13-a207-4596-a6d6-21e21bbf70f6",
   "metadata": {},
   "source": [
    "Some of the popular languages that Data Scientists use are:\n",
    "1. Python\n",
    "2. R\n",
    "3. Scala\n",
    "4. SQL"
   ]
  },
  {
   "cell_type": "markdown",
   "id": "40cc371a-a585-41cd-8c07-8025800d453c",
   "metadata": {},
   "source": [
    "Some of the commonly used libraries used by Data Scientists include:\n",
    "1. dplyr\n",
    "2. stringr\n",
    "3. ggplot\n",
    "4. pandas\n",
    "5. numpy"
   ]
  },
  {
   "cell_type": "markdown",
   "id": "dde190ad-b4c7-4438-bbef-d3fbc8fd4bc0",
   "metadata": {},
   "source": [
    "| Data Science Tools |\n",
    "|--------------------|\n",
    "|R Studio |\n",
    "|Spyder |\n",
    "|Jupyter Notebook|\n",
    "\n"
   ]
  },
  {
   "cell_type": "markdown",
   "id": "2e21f2c4-fcef-4a63-b1a9-1e77ade9ca21",
   "metadata": {},
   "source": [
    "### Below are a few examples of evaluating arithmetic expressions in Python."
   ]
  },
  {
   "cell_type": "code",
   "execution_count": 2,
   "id": "b1d4313e-66a4-4c54-b2a8-b77dd8f35bf8",
   "metadata": {},
   "outputs": [
    {
     "data": {
      "text/plain": [
       "17"
      ]
     },
     "execution_count": 2,
     "metadata": {},
     "output_type": "execute_result"
    }
   ],
   "source": [
    "# This is a simple arithmetic expression to multiply then add integers.\n",
    "(3*4)+5\n"
   ]
  },
  {
   "cell_type": "code",
   "execution_count": 3,
   "id": "e5aa77fc-99b6-4a60-94cd-402fb18cb1fe",
   "metadata": {},
   "outputs": [
    {
     "data": {
      "text/plain": [
       "3.3333333333333335"
      ]
     },
     "execution_count": 3,
     "metadata": {},
     "output_type": "execute_result"
    }
   ],
   "source": [
    "# This will convert 200 minutes to hours by dividing by 60\n",
    "(200/60)"
   ]
  },
  {
   "cell_type": "markdown",
   "id": "004c1b8f-edda-4989-8740-acebf02396c9",
   "metadata": {},
   "source": []
  },
  {
   "cell_type": "markdown",
   "id": "f8655ef5-c831-4449-8fe6-c458fb598d3a",
   "metadata": {},
   "source": [
    "## Author\n",
    "Shivanjali Bhalshankar"
   ]
  }
 ],
 "metadata": {
  "kernelspec": {
   "display_name": "Python 3 (ipykernel)",
   "language": "python",
   "name": "python3"
  },
  "language_info": {
   "codemirror_mode": {
    "name": "ipython",
    "version": 3
   },
   "file_extension": ".py",
   "mimetype": "text/x-python",
   "name": "python",
   "nbconvert_exporter": "python",
   "pygments_lexer": "ipython3",
   "version": "3.12.8"
  }
 },
 "nbformat": 4,
 "nbformat_minor": 5
}
